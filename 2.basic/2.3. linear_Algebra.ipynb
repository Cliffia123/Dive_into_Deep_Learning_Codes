{
 "cells": [
  {
   "cell_type": "markdown",
   "id": "0c508a96-7033-4ef3-9951-a1669667c1c2",
   "metadata": {},
   "source": [
    "## 1.Scalar, vector and matrix 三者的区别\n",
    "**scalar:** 1,2,3...\n",
    "\n",
    "**vector:** tensor([0, 1, 2])\n",
    "\n",
    "**matrix:** tensor([[0, 1],[2, 3],[4, 5]])\n"
   ]
  },
  {
   "cell_type": "code",
   "execution_count": 3,
   "id": "20cce58d-0ec0-4e7f-8f14-600b75ab9cff",
   "metadata": {},
   "outputs": [],
   "source": [
    "import torch"
   ]
  },
  {
   "cell_type": "code",
   "execution_count": 15,
   "id": "eb440ea2-d66b-40b9-a0b0-359ccb00e9ec",
   "metadata": {},
   "outputs": [
    {
     "data": {
      "text/plain": [
       "tensor([[0, 1],\n",
       "        [2, 3],\n",
       "        [4, 5]])"
      ]
     },
     "execution_count": 15,
     "metadata": {},
     "output_type": "execute_result"
    }
   ],
   "source": [
    "'''\n",
    "矩阵的转置：Tensor.T\n",
    "'''\n",
    "A = torch.arange(6).reshape(3, 2)\n",
    "A"
   ]
  },
  {
   "cell_type": "code",
   "execution_count": 16,
   "id": "bf31ab43-101d-4e74-8527-d6be276170ec",
   "metadata": {},
   "outputs": [
    {
     "data": {
      "text/plain": [
       "tensor([[0, 2, 4],\n",
       "        [1, 3, 5]])"
      ]
     },
     "execution_count": 16,
     "metadata": {},
     "output_type": "execute_result"
    }
   ],
   "source": [
    "A.T"
   ]
  },
  {
   "cell_type": "markdown",
   "id": "f3a1eb64-02ff-4332-9557-7d260ba6824b",
   "metadata": {},
   "source": [
    "## 2. 更大的tensor"
   ]
  },
  {
   "cell_type": "code",
   "execution_count": 17,
   "id": "80d80c88-9163-42a4-8281-4d729318ec25",
   "metadata": {},
   "outputs": [
    {
     "data": {
      "text/plain": [
       "tensor([[[ 0,  1,  2,  3],\n",
       "         [ 4,  5,  6,  7],\n",
       "         [ 8,  9, 10, 11]],\n",
       "\n",
       "        [[12, 13, 14, 15],\n",
       "         [16, 17, 18, 19],\n",
       "         [20, 21, 22, 23]]])"
      ]
     },
     "execution_count": 17,
     "metadata": {},
     "output_type": "execute_result"
    }
   ],
   "source": [
    "# 图像中涉及到三到四维度的tensor\n",
    "torch.arange(24).reshape(2, 3, 4)"
   ]
  },
  {
   "cell_type": "markdown",
   "id": "00cb831c-4a3b-44bd-a455-4708872fe322",
   "metadata": {},
   "source": [
    "## 3. Tensor 的基本属性\n",
    "(1) 复制，分配新内存 \n",
    "\n",
    "(2) Hadamard 乘法 \n",
    "\n",
    "(3)"
   ]
  },
  {
   "cell_type": "code",
   "execution_count": 18,
   "id": "c91ce4c4-8676-4b60-a610-f02a79cee574",
   "metadata": {},
   "outputs": [
    {
     "data": {
      "text/plain": [
       "(47750519026416,\n",
       " 47750519026704,\n",
       " tensor([[0., 1., 2.],\n",
       "         [3., 4., 5.]]),\n",
       " tensor([[ 0.,  2.,  4.],\n",
       "         [ 6.,  8., 10.]]))"
      ]
     },
     "execution_count": 18,
     "metadata": {},
     "output_type": "execute_result"
    }
   ],
   "source": [
    "#(1)复制，分配新内存\n",
    "A = torch.arange(6, dtype=torch.float32).reshape(2, 3)\n",
    "B = A.clone()\n",
    "id(A),id(B), A, A + B"
   ]
  },
  {
   "cell_type": "code",
   "execution_count": 19,
   "id": "a0789b1b-4a61-4385-a73f-ca3ef5dbfbbe",
   "metadata": {},
   "outputs": [
    {
     "data": {
      "text/plain": [
       "(tensor([[0., 1., 2.],\n",
       "         [3., 4., 5.]]),\n",
       " tensor([[0., 1., 2.],\n",
       "         [3., 4., 5.]]),\n",
       " tensor([[ 0.,  1.,  4.],\n",
       "         [ 9., 16., 25.]]))"
      ]
     },
     "execution_count": 19,
     "metadata": {},
     "output_type": "execute_result"
    }
   ],
   "source": [
    "# (2) Hadamard 乘法（对应位置相乘）\n",
    "A, B, A*B"
   ]
  },
  {
   "cell_type": "markdown",
   "id": "3f7456b4-9f1f-471a-a8c7-81414b7e4a6d",
   "metadata": {},
   "source": [
    "## 4. Reduction and Non-Reduction Sum\n",
    "（1）sum，mean以及沿着axis中的行或者列计算\n",
    "\n",
    "（2）上述计算中的keepdims表述是否回到原来的形状"
   ]
  },
  {
   "cell_type": "code",
   "execution_count": 24,
   "id": "27000d92-bd62-492a-a207-6f5e84bf3a28",
   "metadata": {},
   "outputs": [
    {
     "data": {
      "text/plain": [
       "(tensor([0., 1., 2.]), tensor(3.))"
      ]
     },
     "execution_count": 24,
     "metadata": {},
     "output_type": "execute_result"
    }
   ],
   "source": [
    "x = torch.arange(3, dtype=torch.float32)\n",
    "x, x.sum()"
   ]
  },
  {
   "cell_type": "code",
   "execution_count": 35,
   "id": "812eb791-e804-42a7-b46c-838d5c4a343a",
   "metadata": {},
   "outputs": [
    {
     "data": {
      "text/plain": [
       "tensor(True)"
      ]
     },
     "execution_count": 35,
     "metadata": {},
     "output_type": "execute_result"
    }
   ],
   "source": [
    "A, A.shape, A.sum(), A.sum(axis=1), A.mean(axis=0)\n",
    "#axis指定按照行增加还是按照列增加\n",
    "A.sum(axis=[0, 1]) == A.sum()"
   ]
  },
  {
   "cell_type": "code",
   "execution_count": 43,
   "id": "bda0efed-8e4b-4a3a-b903-f26055a4091e",
   "metadata": {},
   "outputs": [
    {
     "name": "stdout",
     "output_type": "stream",
     "text": [
      "A: tensor([[0., 1., 2.],\n",
      "        [3., 4., 5.]])\n",
      "sum_A.shape torch.Size([2]) sum_A: tensor([ 3., 12.])\n",
      "sum_A_keep.shape torch.Size([2, 1]) sum_A_keep: tensor([[ 3.],\n",
      "        [12.]])\n"
     ]
    }
   ],
   "source": [
    "#在执行计算后，想要结果的形状与原来保持一致，使用keepdims\n",
    "\n",
    "sum_A = A.sum(axis=1)\n",
    "sum_A_keep = A.sum(axis=1, keepdims=True)\n",
    "print(\"A:\", A)\n",
    "print(\"sum_A.shape\", sum_A.shape, \"sum_A:\", sum_A)\n",
    "print(\"sum_A_keep.shape\", sum_A_keep.shape, \"sum_A_keep:\", sum_A_keep)"
   ]
  },
  {
   "cell_type": "code",
   "execution_count": 49,
   "id": "ff7976c6-1eae-4a08-bb1e-8308abbcaa93",
   "metadata": {},
   "outputs": [
    {
     "data": {
      "text/plain": [
       "(tensor([[0., 1., 2.],\n",
       "         [3., 4., 5.]]),\n",
       " tensor([[0., 1., 2.],\n",
       "         [3., 5., 7.]]))"
      ]
     },
     "execution_count": 49,
     "metadata": {},
     "output_type": "execute_result"
    }
   ],
   "source": [
    "# cumsum 按行累加\n",
    "A, A.cumsum(axis=0)"
   ]
  },
  {
   "cell_type": "markdown",
   "id": "593548c8-1df8-4d45-9d44-c6b158cd1e85",
   "metadata": {},
   "source": [
    "## 5. 点乘 Dot Products\n",
    "针对vectors, 对应位置相乘再累加 == elementwise multiplication follow by a sum"
   ]
  },
  {
   "cell_type": "code",
   "execution_count": 64,
   "id": "12800b6c-4455-43d7-a719-2e7da730422f",
   "metadata": {},
   "outputs": [
    {
     "data": {
      "text/plain": [
       "(tensor([0., 1., 2.]), tensor([1., 1., 1.]), tensor(3.), tensor(True))"
      ]
     },
     "execution_count": 64,
     "metadata": {},
     "output_type": "execute_result"
    }
   ],
   "source": [
    "y = torch.ones(3, dtype=torch.float32)\n",
    "x, y, torch.dot(x, y), torch.dot(x, y) == torch.sum(x * y)"
   ]
  },
  {
   "cell_type": "markdown",
   "id": "dd13be43-5fd6-4983-b144-2221d2227afd",
   "metadata": {},
   "source": [
    "## 6. 矩阵-向量 乘法 Matrix-vector Products \n",
    "eg. **A**: m × n, vector x: n\n",
    "\n",
    "A 的列= x的行\n",
    "\n",
    "**torch.mv()**"
   ]
  },
  {
   "cell_type": "code",
   "execution_count": 57,
   "id": "52861866-b0d9-4a0e-9667-e7d6405004fe",
   "metadata": {},
   "outputs": [
    {
     "name": "stdout",
     "output_type": "stream",
     "text": [
      "A: tensor([[0., 1., 2.],\n",
      "        [3., 4., 5.]]) x tensor([0., 1., 2.])\n",
      "A.shape: torch.Size([2, 3])\n",
      "x.shape: torch.Size([3])\n"
     ]
    },
    {
     "data": {
      "text/plain": [
       "tensor([ 5., 14.])"
      ]
     },
     "execution_count": 57,
     "metadata": {},
     "output_type": "execute_result"
    }
   ],
   "source": [
    "print(\"A:\", A, \"x\", x)\n",
    "print(\"A.shape:\", A.shape)\n",
    "print(\"x.shape:\", x.shape)\n",
    "torch.mv(A, x)\n"
   ]
  },
  {
   "cell_type": "markdown",
   "id": "e79dfb31-be19-4104-ac7f-33405b319d6f",
   "metadata": {},
   "source": [
    "## 7. 矩阵-矩阵相乘 Matrix-Matrix Products\n",
    "**torch.mm()**"
   ]
  },
  {
   "cell_type": "code",
   "execution_count": 59,
   "id": "14e74b94-0666-498b-b840-edfe324cb2bb",
   "metadata": {},
   "outputs": [
    {
     "data": {
      "text/plain": [
       "(tensor([[0., 1., 2.],\n",
       "         [3., 4., 5.]]),\n",
       " tensor([[1., 1., 1., 1.],\n",
       "         [1., 1., 1., 1.],\n",
       "         [1., 1., 1., 1.]]),\n",
       " tensor([[ 3.,  3.,  3.,  3.],\n",
       "         [12., 12., 12., 12.]]))"
      ]
     },
     "execution_count": 59,
     "metadata": {},
     "output_type": "execute_result"
    }
   ],
   "source": [
    "B = torch.ones(3, 4)\n",
    "A, B, torch.mm(A, B)"
   ]
  },
  {
   "cell_type": "markdown",
   "id": "20dfec97-e156-4d10-bd18-65ee8a027d3f",
   "metadata": {},
   "source": [
    "## 8. 范数 Norms-tell us how big a vector it is.\n",
    "(1) **torch,norm()**: l2正则化-欧式距离：向量中的每个数值平方累加后再开方\n",
    "\n",
    "(2) **torch.abs().sum()**: l1正则化-曼哈顿距离：向量中每个数值绝对值累加后再开方"
   ]
  },
  {
   "cell_type": "code",
   "execution_count": 61,
   "id": "a43370ca-ddc2-45a5-a8aa-f712f8f3a1aa",
   "metadata": {},
   "outputs": [
    {
     "data": {
      "text/plain": [
       "tensor(5.)"
      ]
     },
     "execution_count": 61,
     "metadata": {},
     "output_type": "execute_result"
    }
   ],
   "source": [
    "#l2 正则化\n",
    "u = torch.tensor([3.0, -4.0])\n",
    "torch.norm(u)"
   ]
  },
  {
   "cell_type": "code",
   "execution_count": 63,
   "id": "407e87a8-3d56-4b25-962c-1280436ff435",
   "metadata": {},
   "outputs": [
    {
     "data": {
      "text/plain": [
       "tensor(7.)"
      ]
     },
     "execution_count": 63,
     "metadata": {},
     "output_type": "execute_result"
    }
   ],
   "source": [
    "#l1 正则化\n",
    "torch.abs(u).sum()"
   ]
  },
  {
   "cell_type": "code",
   "execution_count": null,
   "id": "e7b486f7-613e-4805-8e3e-7c57987a82ae",
   "metadata": {},
   "outputs": [],
   "source": []
  }
 ],
 "metadata": {
  "kernelspec": {
   "display_name": "Python 3 (ipykernel)",
   "language": "python",
   "name": "python3"
  },
  "language_info": {
   "codemirror_mode": {
    "name": "ipython",
    "version": 3
   },
   "file_extension": ".py",
   "mimetype": "text/x-python",
   "name": "python",
   "nbconvert_exporter": "python",
   "pygments_lexer": "ipython3",
   "version": "3.7.13"
  }
 },
 "nbformat": 4,
 "nbformat_minor": 5
}
