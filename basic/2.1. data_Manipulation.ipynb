{
 "cells": [
  {
   "cell_type": "code",
   "execution_count": 35,
   "id": "c296f444",
   "metadata": {},
   "outputs": [],
   "source": [
    "import torch"
   ]
  },
  {
   "cell_type": "markdown",
   "id": "be7122cb-1bf8-4d24-bc62-535a066d31de",
   "metadata": {},
   "source": [
    "arange生成tensor数组，可指定数据类型"
   ]
  },
  {
   "cell_type": "code",
   "execution_count": 36,
   "id": "f7180faa",
   "metadata": {},
   "outputs": [
    {
     "name": "stdout",
     "output_type": "stream",
     "text": [
      "tensor([ 0.,  1.,  2.,  3.,  4.,  5.,  6.,  7.,  8.,  9., 10., 11.])\n"
     ]
    }
   ],
   "source": [
    "x = torch.arange(12, dtype=torch.float32)\n",
    "print(x)"
   ]
  },
  {
   "cell_type": "code",
   "execution_count": 37,
   "id": "0916d8a6",
   "metadata": {},
   "outputs": [
    {
     "data": {
      "text/plain": [
       "12"
      ]
     },
     "execution_count": 37,
     "metadata": {},
     "output_type": "execute_result"
    }
   ],
   "source": [
    "x.numel()"
   ]
  },
  {
   "cell_type": "code",
   "execution_count": 38,
   "id": "cf17b772-691d-415e-8bb0-e82d5ad0b3ac",
   "metadata": {},
   "outputs": [
    {
     "data": {
      "text/plain": [
       "torch.Size([12])"
      ]
     },
     "execution_count": 38,
     "metadata": {},
     "output_type": "execute_result"
    }
   ],
   "source": [
    "x.shape"
   ]
  },
  {
   "cell_type": "markdown",
   "id": "92bd3f03-4caf-43c2-b00a-7a2ee96029f6",
   "metadata": {},
   "source": [
    "（1） 指定行列，改变vector的形状，reshape(行，列)\n",
    "（2）只指定行，或者只指定列，reshape(-1,列)， reshape(行,-1)"
   ]
  },
  {
   "cell_type": "code",
   "execution_count": 39,
   "id": "1be41de0-043f-4e58-be39-f08f0cfcb1e1",
   "metadata": {},
   "outputs": [
    {
     "name": "stdout",
     "output_type": "stream",
     "text": [
      "tensor([[ 0.,  1.,  2.,  3.,  4.,  5.],\n",
      "        [ 6.,  7.,  8.,  9., 10., 11.]])\n",
      "tensor([[ 0.,  1.,  2.,  3.],\n",
      "        [ 4.,  5.,  6.,  7.],\n",
      "        [ 8.,  9., 10., 11.]])\n"
     ]
    }
   ],
   "source": [
    "X = x.reshape(2, -1)\n",
    "print(X)\n",
    "\n",
    "X = x.reshape(3, 4)\n",
    "print(X)"
   ]
  },
  {
   "cell_type": "markdown",
   "id": "09d0ad90-89da-45c9-af8a-b86683aa4a2b",
   "metadata": {},
   "source": []
  },
  {
   "cell_type": "code",
   "execution_count": 40,
   "id": "3d7367c2-673d-4a25-a8e7-5829107627d4",
   "metadata": {},
   "outputs": [
    {
     "data": {
      "text/plain": [
       "tensor([[ 0.7686,  2.2842, -0.2979, -0.4298],\n",
       "        [ 0.6109,  0.5410, -1.4706, -0.2159],\n",
       "        [-0.7359,  0.8360,  0.2431, -0.0197]])"
      ]
     },
     "execution_count": 40,
     "metadata": {},
     "output_type": "execute_result"
    }
   ],
   "source": [
    "torch.zeros((2, 3, 4))\n",
    "torch.ones((2, 3, 4))\n",
    "torch.randn(3, 4)"
   ]
  },
  {
   "cell_type": "markdown",
   "id": "14c2de90-67bb-4fa4-afa8-57adb1ac516b",
   "metadata": {},
   "source": [
    "## 2. 索引与切片"
   ]
  },
  {
   "cell_type": "code",
   "execution_count": 41,
   "id": "7c004034-1f5e-4219-80b7-a7ad0c71d88a",
   "metadata": {},
   "outputs": [
    {
     "data": {
      "text/plain": [
       "tensor([[10., 10., 10., 10.],\n",
       "        [10., 10., 10., 10.],\n",
       "        [ 8.,  9., 10., 11.]])"
      ]
     },
     "execution_count": 41,
     "metadata": {},
     "output_type": "execute_result"
    }
   ],
   "source": [
    "X[-1], X[1:3]\n",
    "#2代表前面冒号的1-2行都赋予同样的值\n",
    "X[:2,:] = 10\n",
    "X"
   ]
  },
  {
   "cell_type": "markdown",
   "id": "955a7243-0bdc-40f1-b689-9e2fc9043eb6",
   "metadata": {},
   "source": [
    "## 3. 计算操作operations"
   ]
  },
  {
   "cell_type": "code",
   "execution_count": 42,
   "id": "01166309-f504-4d4f-baf4-46d59462ec60",
   "metadata": {},
   "outputs": [
    {
     "data": {
      "text/plain": [
       "tensor([22026.4648, 22026.4648, 22026.4648, 22026.4648, 22026.4648, 22026.4648,\n",
       "        22026.4648, 22026.4648,  2980.9580,  8103.0840, 22026.4648, 59874.1406])"
      ]
     },
     "execution_count": 42,
     "metadata": {},
     "output_type": "execute_result"
    }
   ],
   "source": [
    "torch.exp(x)"
   ]
  },
  {
   "cell_type": "code",
   "execution_count": 43,
   "id": "450a6759-5de2-495f-ae25-78a10184312a",
   "metadata": {},
   "outputs": [
    {
     "name": "stdout",
     "output_type": "stream",
     "text": [
      "tensor([[ 0.,  1.,  2.,  3.],\n",
      "        [ 4.,  5.,  6.,  7.],\n",
      "        [ 8.,  9., 10., 11.],\n",
      "        [ 2.,  1.,  4.,  3.],\n",
      "        [ 1.,  2.,  3.,  4.],\n",
      "        [ 4.,  3.,  2.,  1.]])\n"
     ]
    },
    {
     "data": {
      "text/plain": [
       "tensor([[ 0.,  1.,  2.,  3.,  2.,  1.,  4.,  3.],\n",
       "        [ 4.,  5.,  6.,  7.,  1.,  2.,  3.,  4.],\n",
       "        [ 8.,  9., 10., 11.,  4.,  3.,  2.,  1.]])"
      ]
     },
     "execution_count": 43,
     "metadata": {},
     "output_type": "execute_result"
    }
   ],
   "source": [
    "#3.1 cat 拼接 [0,1,2...] dim指定沿着第几个维度拼接\n",
    "X = torch.arange(12, dtype=torch.float32).reshape((3, 4))\n",
    "Y = torch.tensor([[2.0, 1, 4, 3], [1, 2, 3, 4], [4, 3, 2, 1]])\n",
    "Z = torch.cat((X, Y), dim=0) #沿着行拼接\n",
    "print(Z)\n",
    "Z = torch.cat((X, Y), dim=1) #沿着列拼接\n",
    "Z"
   ]
  },
  {
   "cell_type": "code",
   "execution_count": 44,
   "id": "ec80c708-da3e-46e2-98e4-5cfc8ecdcf52",
   "metadata": {},
   "outputs": [
    {
     "data": {
      "text/plain": [
       "tensor([[False,  True, False,  True],\n",
       "        [False, False, False, False],\n",
       "        [False, False, False, False]])"
      ]
     },
     "execution_count": 44,
     "metadata": {},
     "output_type": "execute_result"
    }
   ],
   "source": [
    "X == Y"
   ]
  },
  {
   "cell_type": "code",
   "execution_count": 45,
   "id": "8892ad46-0fb7-4594-b18a-d7c553fa5071",
   "metadata": {},
   "outputs": [
    {
     "data": {
      "text/plain": [
       "tensor(66.)"
      ]
     },
     "execution_count": 45,
     "metadata": {},
     "output_type": "execute_result"
    }
   ],
   "source": [
    "X.sum()"
   ]
  },
  {
   "cell_type": "markdown",
   "id": "b28a9386-db95-4278-83a3-391e555c1352",
   "metadata": {},
   "source": [
    "## 4. 广播\n",
    "3.1 先广播成一样的矩阵形状\n",
    "\n",
    "3.2 执行加减乘除操作"
   ]
  },
  {
   "cell_type": "code",
   "execution_count": 46,
   "id": "33328e90-8b46-4894-9fab-e3c1a58cfc2b",
   "metadata": {},
   "outputs": [
    {
     "data": {
      "text/plain": [
       "tensor([[0, 1],\n",
       "        [1, 2],\n",
       "        [2, 3]])"
      ]
     },
     "execution_count": 46,
     "metadata": {},
     "output_type": "execute_result"
    }
   ],
   "source": [
    "'''\n",
    "a -> 3×1\n",
    "b -> 1×2\n",
    "\n",
    "when a + b, \n",
    "a -> 3×2, 沿着列复制\n",
    "b -> 3×2, 沿着行复制\n",
    "\n",
    "eg. a: tensor([[0],[1],[2]]) -> tensor([[0, 0],[1, 1],[2, 2]])\n",
    "b: tensor([[0, 1]])) ->  tensor([[0, 1],[0,1], [0, 1]]))\n",
    "\n",
    "'''\n",
    "\n",
    "a = torch.arange(3).reshape(3, 1)\n",
    "b = torch.arange(2).reshape(1, 2)\n",
    "\n",
    "a + b"
   ]
  },
  {
   "cell_type": "markdown",
   "id": "0da632ee-cd2c-4642-a8e4-28f93390b37a",
   "metadata": {},
   "source": [
    "## 5. 省略内存\n",
    "(1) 使用 [:]"
   ]
  },
  {
   "cell_type": "code",
   "execution_count": 51,
   "id": "f7b5a116-9154-4092-b40a-bf80da94ac5e",
   "metadata": {},
   "outputs": [
    {
     "data": {
      "text/plain": [
       "False"
      ]
     },
     "execution_count": 51,
     "metadata": {},
     "output_type": "execute_result"
    }
   ],
   "source": [
    "'''\n",
    "Y = Y + X\n",
    "系统为 Y 重新分配了一块内存，并指向新的结果，此时 new Y 与 old Y指向不同的位置，增加了内存支出\n",
    "'''\n",
    "before = id(Y)\n",
    "Y = Y + X\n",
    "id(Y) == before"
   ]
  },
  {
   "cell_type": "code",
   "execution_count": 54,
   "id": "cd61bb7e-fb8a-4661-91d7-369902c55fa4",
   "metadata": {},
   "outputs": [
    {
     "name": "stdout",
     "output_type": "stream",
     "text": [
      "id(X): 47404998588464\n",
      "id(X): 47404998588464\n"
     ]
    }
   ],
   "source": [
    "Z = torch.zeros_like(Y)\n",
    "print(\"id(X):\", id(Z))\n",
    "\n",
    "Z[:] = X + Y\n",
    "print(\"id(X):\", id(Z))"
   ]
  },
  {
   "cell_type": "markdown",
   "id": "46f43dea-62ac-47a8-8a6f-a2eb792b9805",
   "metadata": {},
   "source": [
    "## 6. 数据类型转换\n",
    "(1) Tensor -> Numpy: tensor.numpy()\n",
    "\n",
    "(2) Numpy -> Tensor: from_numpy()"
   ]
  },
  {
   "cell_type": "code",
   "execution_count": 57,
   "id": "7e861ce6-34e6-432e-9bef-5e24bfa397cf",
   "metadata": {},
   "outputs": [
    {
     "data": {
      "text/plain": [
       "numpy.ndarray"
      ]
     },
     "execution_count": 57,
     "metadata": {},
     "output_type": "execute_result"
    }
   ],
   "source": [
    "#(1) Tensor -> Numpy\n",
    "A = X.numpy()\n",
    "type(A)"
   ]
  },
  {
   "cell_type": "code",
   "execution_count": 58,
   "id": "630e4979-eaec-451d-9597-da532c58c486",
   "metadata": {},
   "outputs": [
    {
     "data": {
      "text/plain": [
       "torch.Tensor"
      ]
     },
     "execution_count": 58,
     "metadata": {},
     "output_type": "execute_result"
    }
   ],
   "source": [
    "#(2) Numpy -> Tensor\n",
    "B = torch.from_numpy(A)\n",
    "type(B)"
   ]
  },
  {
   "cell_type": "code",
   "execution_count": null,
   "id": "7d44af07-342b-4c96-af58-ba2cd8b4c045",
   "metadata": {},
   "outputs": [],
   "source": []
  }
 ],
 "metadata": {
  "kernelspec": {
   "display_name": "Python 3 (ipykernel)",
   "language": "python",
   "name": "python3"
  },
  "language_info": {
   "codemirror_mode": {
    "name": "ipython",
    "version": 3
   },
   "file_extension": ".py",
   "mimetype": "text/x-python",
   "name": "python",
   "nbconvert_exporter": "python",
   "pygments_lexer": "ipython3",
   "version": "3.7.13"
  }
 },
 "nbformat": 4,
 "nbformat_minor": 5
}
